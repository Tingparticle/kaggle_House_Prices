{
 "cells": [
  {
   "cell_type": "markdown",
   "metadata": {},
   "source": [
    "Topic:predict kaggle_House_Prices"
   ]
  },
  {
   "cell_type": "markdown",
   "metadata": {},
   "source": [
    "1.read table"
   ]
  },
  {
   "cell_type": "code",
   "execution_count": 32,
   "metadata": {
    "collapsed": true
   },
   "outputs": [],
   "source": [
    "import pandas as pd\n",
    "import os\n",
    "import numpy as np\n",
    "import matplotlib.pyplot as plt\n",
    "from sklearn.svm import SVC\n",
    "from sklearn.linear_model import Lasso\n",
    "%matplotlib inline\n",
    "\n"
   ]
  },
  {
   "cell_type": "code",
   "execution_count": 6,
   "metadata": {
    "collapsed": true
   },
   "outputs": [],
   "source": [
    "os.getcwd()\n",
    "os.chdir('/Users/ting/Desktop/kaggle_House_Prices/')"
   ]
  },
  {
   "cell_type": "code",
   "execution_count": 7,
   "metadata": {},
   "outputs": [
    {
     "data": {
      "text/plain": [
       "(2919, 79)"
      ]
     },
     "execution_count": 7,
     "metadata": {},
     "output_type": "execute_result"
    }
   ],
   "source": [
    "train = pd.read_csv(\"train.csv\")\n",
    "test = pd.read_csv(\"test.csv\")\n",
    "all_data = pd.concat((train.loc[:, 'MSSubClass':'SaleCondition'], \n",
    "                      test.loc[:, 'MSSubClass':'SaleCondition']), ignore_index = True)\n",
    "#all_data\n",
    "#all_data.describe().T\n",
    "all_data.to_csv(\"all_data.csv\")\n",
    "all_data.shape"
   ]
  },
  {
   "cell_type": "markdown",
   "metadata": {},
   "source": [
    "2.處理NA"
   ]
  },
  {
   "cell_type": "markdown",
   "metadata": {},
   "source": [
    "找出有NA的欄位"
   ]
  },
  {
   "cell_type": "code",
   "execution_count": 8,
   "metadata": {},
   "outputs": [
    {
     "name": "stdout",
     "output_type": "stream",
     "text": [
      "   MSZoning  LotFrontage  Alley  Utilities  Exterior1st  Exterior2nd  \\\n",
      "0         4          486   2721          2            1            1   \n",
      "\n",
      "   MasVnrType  MasVnrArea  BsmtQual  BsmtCond    ...     GarageYrBlt  \\\n",
      "0          24          23        81        82    ...             159   \n",
      "\n",
      "   GarageFinish  GarageCars  GarageArea  GarageQual  GarageCond  PoolQC  \\\n",
      "0           159           1           1         159         159    2909   \n",
      "\n",
      "   Fence  MiscFeature  SaleType  \n",
      "0   2348         2814         1  \n",
      "\n",
      "[1 rows x 34 columns]\n",
      "(1, 34)\n"
     ]
    },
    {
     "data": {
      "text/plain": [
       "MSZoning        0\n",
       "LotFrontage     0\n",
       "Alley           0\n",
       "Utilities       0\n",
       "Exterior1st     0\n",
       "Exterior2nd     0\n",
       "MasVnrType      0\n",
       "MasVnrArea      0\n",
       "BsmtQual        0\n",
       "BsmtCond        0\n",
       "BsmtExposure    0\n",
       "BsmtFinType1    0\n",
       "BsmtFinSF1      0\n",
       "BsmtFinType2    0\n",
       "BsmtFinSF2      0\n",
       "BsmtUnfSF       0\n",
       "TotalBsmtSF     0\n",
       "Electrical      0\n",
       "BsmtFullBath    0\n",
       "BsmtHalfBath    0\n",
       "KitchenQual     0\n",
       "Functional      0\n",
       "FireplaceQu     0\n",
       "GarageType      0\n",
       "GarageYrBlt     0\n",
       "GarageFinish    0\n",
       "GarageCars      0\n",
       "GarageArea      0\n",
       "GarageQual      0\n",
       "GarageCond      0\n",
       "PoolQC          0\n",
       "Fence           0\n",
       "MiscFeature     0\n",
       "SaleType        0\n",
       "dtype: int64"
      ]
     },
     "execution_count": 8,
     "metadata": {},
     "output_type": "execute_result"
    }
   ],
   "source": [
    "all_data_null = pd.DataFrame(all_data.isnull().sum())\n",
    "all_data_null = all_data_null.T\n",
    "all_data_null\n",
    "#all_data_null.loc[:,'Id']\n",
    "#all_data_null.drop('Id', 1)\n",
    "\n",
    "\n",
    "for i in range(0,35):\n",
    "    if all_data_null.loc[0,all_data_null.columns[i]] == 0:\n",
    "        all_data_null = all_data_null.drop(all_data_null.columns[i], 1)\n",
    "        for i in range(0,35):\n",
    "            if all_data_null.loc[0,all_data_null.columns[i]] == 0:\n",
    "                all_data_null = all_data_null.drop(all_data_null.columns[i], 1)\n",
    "                \n",
    "\n",
    "print(all_data_null)\n",
    "print(all_data_null.shape)\n",
    "all_data_null.isnull().sum()"
   ]
  },
  {
   "cell_type": "code",
   "execution_count": 9,
   "metadata": {},
   "outputs": [
    {
     "data": {
      "text/html": [
       "<div>\n",
       "<style>\n",
       "    .dataframe thead tr:only-child th {\n",
       "        text-align: right;\n",
       "    }\n",
       "\n",
       "    .dataframe thead th {\n",
       "        text-align: left;\n",
       "    }\n",
       "\n",
       "    .dataframe tbody tr th {\n",
       "        vertical-align: top;\n",
       "    }\n",
       "</style>\n",
       "<table border=\"1\" class=\"dataframe\">\n",
       "  <thead>\n",
       "    <tr style=\"text-align: right;\">\n",
       "      <th></th>\n",
       "      <th>0</th>\n",
       "    </tr>\n",
       "  </thead>\n",
       "  <tbody>\n",
       "    <tr>\n",
       "      <th>MSZoning</th>\n",
       "      <td>4</td>\n",
       "    </tr>\n",
       "    <tr>\n",
       "      <th>LotFrontage</th>\n",
       "      <td>486</td>\n",
       "    </tr>\n",
       "    <tr>\n",
       "      <th>Alley</th>\n",
       "      <td>2721</td>\n",
       "    </tr>\n",
       "    <tr>\n",
       "      <th>Utilities</th>\n",
       "      <td>2</td>\n",
       "    </tr>\n",
       "    <tr>\n",
       "      <th>Exterior1st</th>\n",
       "      <td>1</td>\n",
       "    </tr>\n",
       "    <tr>\n",
       "      <th>Exterior2nd</th>\n",
       "      <td>1</td>\n",
       "    </tr>\n",
       "    <tr>\n",
       "      <th>MasVnrType</th>\n",
       "      <td>24</td>\n",
       "    </tr>\n",
       "    <tr>\n",
       "      <th>MasVnrArea</th>\n",
       "      <td>23</td>\n",
       "    </tr>\n",
       "    <tr>\n",
       "      <th>BsmtQual</th>\n",
       "      <td>81</td>\n",
       "    </tr>\n",
       "    <tr>\n",
       "      <th>BsmtCond</th>\n",
       "      <td>82</td>\n",
       "    </tr>\n",
       "    <tr>\n",
       "      <th>BsmtExposure</th>\n",
       "      <td>82</td>\n",
       "    </tr>\n",
       "    <tr>\n",
       "      <th>BsmtFinType1</th>\n",
       "      <td>79</td>\n",
       "    </tr>\n",
       "    <tr>\n",
       "      <th>BsmtFinSF1</th>\n",
       "      <td>1</td>\n",
       "    </tr>\n",
       "    <tr>\n",
       "      <th>BsmtFinType2</th>\n",
       "      <td>80</td>\n",
       "    </tr>\n",
       "    <tr>\n",
       "      <th>BsmtFinSF2</th>\n",
       "      <td>1</td>\n",
       "    </tr>\n",
       "    <tr>\n",
       "      <th>BsmtUnfSF</th>\n",
       "      <td>1</td>\n",
       "    </tr>\n",
       "    <tr>\n",
       "      <th>TotalBsmtSF</th>\n",
       "      <td>1</td>\n",
       "    </tr>\n",
       "    <tr>\n",
       "      <th>Electrical</th>\n",
       "      <td>1</td>\n",
       "    </tr>\n",
       "    <tr>\n",
       "      <th>BsmtFullBath</th>\n",
       "      <td>2</td>\n",
       "    </tr>\n",
       "    <tr>\n",
       "      <th>BsmtHalfBath</th>\n",
       "      <td>2</td>\n",
       "    </tr>\n",
       "    <tr>\n",
       "      <th>KitchenQual</th>\n",
       "      <td>1</td>\n",
       "    </tr>\n",
       "    <tr>\n",
       "      <th>Functional</th>\n",
       "      <td>2</td>\n",
       "    </tr>\n",
       "    <tr>\n",
       "      <th>FireplaceQu</th>\n",
       "      <td>1420</td>\n",
       "    </tr>\n",
       "    <tr>\n",
       "      <th>GarageType</th>\n",
       "      <td>157</td>\n",
       "    </tr>\n",
       "    <tr>\n",
       "      <th>GarageYrBlt</th>\n",
       "      <td>159</td>\n",
       "    </tr>\n",
       "    <tr>\n",
       "      <th>GarageFinish</th>\n",
       "      <td>159</td>\n",
       "    </tr>\n",
       "    <tr>\n",
       "      <th>GarageCars</th>\n",
       "      <td>1</td>\n",
       "    </tr>\n",
       "    <tr>\n",
       "      <th>GarageArea</th>\n",
       "      <td>1</td>\n",
       "    </tr>\n",
       "    <tr>\n",
       "      <th>GarageQual</th>\n",
       "      <td>159</td>\n",
       "    </tr>\n",
       "    <tr>\n",
       "      <th>GarageCond</th>\n",
       "      <td>159</td>\n",
       "    </tr>\n",
       "    <tr>\n",
       "      <th>PoolQC</th>\n",
       "      <td>2909</td>\n",
       "    </tr>\n",
       "    <tr>\n",
       "      <th>Fence</th>\n",
       "      <td>2348</td>\n",
       "    </tr>\n",
       "    <tr>\n",
       "      <th>MiscFeature</th>\n",
       "      <td>2814</td>\n",
       "    </tr>\n",
       "    <tr>\n",
       "      <th>SaleType</th>\n",
       "      <td>1</td>\n",
       "    </tr>\n",
       "  </tbody>\n",
       "</table>\n",
       "</div>"
      ],
      "text/plain": [
       "                 0\n",
       "MSZoning         4\n",
       "LotFrontage    486\n",
       "Alley         2721\n",
       "Utilities        2\n",
       "Exterior1st      1\n",
       "Exterior2nd      1\n",
       "MasVnrType      24\n",
       "MasVnrArea      23\n",
       "BsmtQual        81\n",
       "BsmtCond        82\n",
       "BsmtExposure    82\n",
       "BsmtFinType1    79\n",
       "BsmtFinSF1       1\n",
       "BsmtFinType2    80\n",
       "BsmtFinSF2       1\n",
       "BsmtUnfSF        1\n",
       "TotalBsmtSF      1\n",
       "Electrical       1\n",
       "BsmtFullBath     2\n",
       "BsmtHalfBath     2\n",
       "KitchenQual      1\n",
       "Functional       2\n",
       "FireplaceQu   1420\n",
       "GarageType     157\n",
       "GarageYrBlt    159\n",
       "GarageFinish   159\n",
       "GarageCars       1\n",
       "GarageArea       1\n",
       "GarageQual     159\n",
       "GarageCond     159\n",
       "PoolQC        2909\n",
       "Fence         2348\n",
       "MiscFeature   2814\n",
       "SaleType         1"
      ]
     },
     "execution_count": 9,
     "metadata": {},
     "output_type": "execute_result"
    }
   ],
   "source": [
    "all_data_null.T"
   ]
  },
  {
   "cell_type": "markdown",
   "metadata": {},
   "source": [
    "從空值多的開始處理"
   ]
  },
  {
   "cell_type": "markdown",
   "metadata": {},
   "source": [
    "處理LotFrontage的NA-----利用LotFrontage與LotArea的關係"
   ]
  },
  {
   "cell_type": "code",
   "execution_count": 10,
   "metadata": {
    "collapsed": true
   },
   "outputs": [],
   "source": [
    "'''\n",
    "plt.hist(all_data.LotArea)\n",
    "plt.show()\n",
    "#LotArea 大部分值 <= 25000\n",
    "\n",
    "LotFrontage_notnull = all_data.LotFrontage.fillna(0)\n",
    "plt.hist(LotFrontage_notnull)\n",
    "plt.show()\n",
    "#LotFrontage 大部分值 <= 150\n",
    "\n",
    "'''\n",
    "\n",
    "LotArea_LotFrontage_notnull = all_data.loc[np.logical_not(all_data.LotFrontage.isnull()), \"LotArea\"]\n",
    "LotFrontage_notnull = all_data.loc[np.logical_not(all_data.LotFrontage.isnull()), \"LotFrontage\"]\n",
    "\n",
    "'''\n",
    "plt.scatter(LotArea_LotFrontage_notnull, LotFrontage_notnull)\n",
    "plt.show()\n",
    "'''\n",
    "\n",
    "LotArea_LotFrontage_notnull_1 = LotArea_LotFrontage_notnull[LotFrontage_notnull < 150]\n",
    "LotFrontage_notnull_1 = LotFrontage_notnull[LotArea_LotFrontage_notnull < 25000]\n",
    "p = np.polyfit(LotArea_LotFrontage_notnull_1[LotArea_LotFrontage_notnull_1 < 25000],\n",
    "               LotFrontage_notnull_1[LotFrontage_notnull_1 < 150], 1)\n",
    "np.poly1d(p)\n",
    "\n",
    "all_data.loc[all_data.LotFrontage.isnull(), \"LotFrontage\"] = np.polyval(p, all_data.loc[all_data.LotFrontage.isnull(),\n",
    "                                                                                        \"LotArea\"])\n",
    "\n",
    "#all_data"
   ]
  },
  {
   "cell_type": "markdown",
   "metadata": {
    "collapsed": true
   },
   "source": [
    "處理雙方的NA-----利用MasVnrType與MasVnrArea的關係"
   ]
  },
  {
   "cell_type": "code",
   "execution_count": 11,
   "metadata": {
    "collapsed": true
   },
   "outputs": [],
   "source": [
    "#MasVnrType\n",
    "all_data.loc[all_data.MasVnrType.isnull(), \"MasVnrArea\"]\n",
    "#MasVnrArea = 2610特殊，MasVnrType = null時有值\n",
    "all_data.loc[all_data.MasVnrArea == 198, 'MasVnrType']\n",
    "#198中stone最多\n",
    "all_data.loc[2610, \"MasVnrType\"] = 'Stone'\n",
    "all_data.loc[all_data.MasVnrType.isnull(), \"MasVnrType\"] = 'None'\n",
    "\n",
    "'''\n",
    "#由下面可以知道 MasVnrType = None 時MasVnrArea 不一定為0\n",
    "k1 = 0\n",
    "for i in range(0,1700):\n",
    "    k = all_data.loc[all_data.MasVnrType == 'None', \"MasVnrArea\"].reset_index()[\"MasVnrArea\"][i]\n",
    "    k1 = k1 + k\n",
    "    print(k1)\n",
    "'''\n",
    "\n",
    "'''\n",
    "#找出MasVnrType = None 時MasVnrArea 不為0的值 \n",
    "for i in range(0,1741):\n",
    "    k = all_data.loc[all_data.MasVnrType == 'None', \"MasVnrArea\"].reset_index()[\"MasVnrArea\"][i]\n",
    "    if k != 0:\n",
    "        print(i,k)\n",
    "        print(all_data.loc[all_data.MasVnrType == 'None', \"MasVnrArea\"].reset_index()[\"index\"][i])\n",
    "'''\n",
    "#MasVnrType = None 時MasVnrArea = 288.0 Id = 624\n",
    "all_data.loc[all_data.MasVnrArea == 288, \"MasVnrType\"]\n",
    "#BrkFace最多\n",
    "all_data.loc[624, \"MasVnrType\"] = 'BrkFace'\n",
    "\n",
    "#MasVnrType = None 時MasVnrArea = 1.0 Id = 773,729,1445\n",
    "all_data.loc[all_data.MasVnrArea == 1.0, \"MasVnrType\"]\n",
    "#None最多\n",
    "all_data.loc[773, \"MasVnrType\"] = 'None'\n",
    "all_data.loc[1230, \"MasVnrType\"] = 'None'\n",
    "all_data.loc[2452, \"MasVnrType\"] = 'None'\n",
    "\n",
    "#MasVnrType = None 時MasVnrArea = 344.0 Id = 1300\n",
    "all_data.loc[all_data.MasVnrArea == 344.0, \"MasVnrType\"]\n",
    "all_data.loc[1300, \"MasVnrType\"] = 'BrkFace'\n",
    "\n",
    "#MasVnrType = None 時MasVnrArea = 312.0 Id = 1334\n",
    "all_data.loc[all_data.MasVnrArea == 312.0, \"MasVnrType\"]\n",
    "all_data.loc[1334, \"MasVnrType\"] = 'BrkFace'\n",
    "\n",
    "#MasVnrType = None 時MasVnrArea = 285.0 Id = 1669\n",
    "all_data.loc[all_data.MasVnrArea == 285.0, \"MasVnrType\"]\n",
    "all_data.loc[1669, \"MasVnrType\"] = 'BrkFace'\n",
    "\n",
    "\n",
    "\n"
   ]
  },
  {
   "cell_type": "markdown",
   "metadata": {},
   "source": [
    "處理bsm那部分，將BsmtFinSF1、BsmtFinSF2的nan填成0"
   ]
  },
  {
   "cell_type": "code",
   "execution_count": 12,
   "metadata": {
    "collapsed": true
   },
   "outputs": [],
   "source": [
    "######BsmtQual,BsmtCond,BsmtExposure,BsmtFinType1,BsmtFinType2,BsmtFinSF1,BsmtFinSF2,BsmtUnfSF,TotalBsmtSF,smtFullBath\n",
    "#,BsmtHalfBath\n",
    "all_data.loc[all_data.BsmtQual.isnull(), 'BsmtQual'] = 'NoBsmt'\n",
    "all_data.loc[all_data.BsmtCond.isnull(), 'BsmtCond'] = 'NoBsmt'\n",
    "all_data.loc[all_data.BsmtExposure.isnull(), 'BsmtExposure'] = 'NoBsmt'\n",
    "all_data.loc[all_data.BsmtFinType1.isnull(), 'BsmtFinType1'] = 'NoBsmt'\n",
    "all_data.loc[all_data.BsmtFinType2.isnull(), 'BsmtFinType2'] = 'NoBsmt'\n",
    "\n",
    "'''\n",
    "#BsmtFinType1=='NoBsmt' 時MasVnrArea = 0 V nan，且BsmtFinType1!='NoBsmt' 時MasVnrArea != 0 V nan\n",
    "k1 = 0\n",
    "for i in range(0,79):\n",
    "    k = all_data.loc[all_data.BsmtFinType1=='NoBsmt', 'BsmtFinSF1'].reset_index()[\"BsmtFinSF1\"][i]\n",
    "    k1 = k1 + k\n",
    "    print(k1)\n",
    "#BsmtFinType2同理\n",
    "'''\n",
    "all_data.loc[all_data.BsmtFinType1=='NoBsmt', 'BsmtFinSF1'] = 0\n",
    "#all_data.loc[all_data.loc[:, 'BsmtFinSF1'].isnull(), 'BsmtFinSF1']\n",
    "all_data.loc[all_data.BsmtFinType2=='NoBsmt', 'BsmtFinSF2'] = 0\n",
    "#all_data.loc[all_data.loc[:, 'BsmtFinSF2'].isnull(), 'BsmtFinSF2']\n",
    "\n",
    "'''\n",
    "#BsmtQual=='NoBsmt' 時BsmtUnfSF 不為0的值 \n",
    "for i in range(0,81):\n",
    "    k = all_data.loc[all_data.BsmtQual=='NoBsmt', 'BsmtUnfSF'].reset_index()['BsmtUnfSF'][i]\n",
    "    if k != 0:\n",
    "        print(i,k)\n",
    "        print(all_data.loc[all_data.BsmtQual=='NoBsmt', 'BsmtUnfSF'].reset_index()[\"index\"][i])\n",
    "'''\n",
    "all_data.loc[2120, 'BsmtUnfSF'] = 0\n",
    "\n",
    "all_data.loc[all_data.BsmtUnfSF == 173, 'BsmtQual']\n",
    "all_data.loc[2217, 'BsmtUnfSF'] = 'Gd'\n",
    "\n",
    "all_data.loc[all_data.BsmtUnfSF == 356, 'BsmtQual']\n",
    "all_data.loc[2218, 'BsmtUnfSF'] = 'Gd'\n",
    "\n",
    "all_data.loc[all_data.BsmtQual=='NoBsmt', 'BsmtUnfSF'] = 0\n",
    "#all_data.loc[all_data.BsmtUnfSF.isnull(), 'BsmtUnfSF']\n",
    "#BsmtUnfSF沒有空值了\n",
    "\n",
    "'''\n",
    "#BsmtQual=='NoBsmt' 時TotalBsmtSF 不為0的值 \n",
    "for i in range(0,81):\n",
    "    k = all_data.loc[all_data.BsmtQual=='NoBsmt', 'TotalBsmtSF'].reset_index()['TotalBsmtSF'][i]\n",
    "    if k != 0:\n",
    "        print(i,k)\n",
    "        print(all_data.loc[all_data.BsmtQual=='NoBsmt', 'TotalBsmtSF'].reset_index()[\"index\"][i])\n",
    "'''\n",
    "all_data.loc[2120, 'TotalBsmtSF'] = 0\n",
    "all_data.loc[2217, 'TotalBsmtSF'] = 'Gd'\n",
    "all_data.loc[2218, 'TotalBsmtSF'] = 'Gd'\n",
    "all_data.loc[all_data.BsmtQual=='NoBsmt', 'TotalBsmtSF'] = 0\n",
    "#all_data.loc[all_data.BsmtUnfSF.isnull(), 'TotalBsmtSF']\n",
    "#TotalBsmtSF沒有空值了\n",
    "\n",
    "all_data.loc[all_data.BsmtFullBath.isnull(), 'BsmtFullBath'] = 0\n",
    "all_data.loc[all_data.BsmtHalfBath.isnull(), 'BsmtHalfBath'] = 0"
   ]
  },
  {
   "cell_type": "markdown",
   "metadata": {
    "collapsed": true
   },
   "source": [
    "處理gara那部分"
   ]
  },
  {
   "cell_type": "code",
   "execution_count": 13,
   "metadata": {
    "collapsed": true
   },
   "outputs": [],
   "source": [
    "all_data.loc[all_data.GarageType.isnull(), 'GarageType'] = 'NoGarage'\n",
    "all_data.loc[all_data.GarageFinish.isnull(), 'GarageFinish'] = 'NoGarage'\n",
    "all_data.loc[all_data.GarageQual.isnull(), 'GarageQual'] = 'NoGarage'\n",
    "all_data.loc[all_data.GarageCond.isnull(), 'GarageCond'] = 'NoGarage'\n",
    "all_data.loc[all_data['GarageArea'].isnull(), 'GarageArea'] = all_data.loc[all_data['GarageType']=='Detchd', 'GarageArea'].mean()\n",
    "all_data.loc[all_data['GarageCars'].isnull(), 'GarageCars'] = all_data.loc[all_data['GarageType']=='Detchd', 'GarageCars'].median()\n",
    "#利用分群處理GarageYrBlt\n",
    "yrblt_group = pd.concat(pd.Series('yeargroup' + str(1 + i), index = range(1871 + i*20, 1891 + i*20)) for i in range(0,7))\n",
    "all_data.yeargroup = all_data.GarageYrBlt.map(yrblt_group)\n",
    "all_data.loc[all_data['GarageYrBlt'].isnull(), 'GarageYrBlt'] = 'NoGarage'"
   ]
  },
  {
   "cell_type": "markdown",
   "metadata": {
    "collapsed": true
   },
   "source": [
    "將最多的值塞入空值或根據文件重新定義空值"
   ]
  },
  {
   "cell_type": "code",
   "execution_count": 14,
   "metadata": {},
   "outputs": [
    {
     "name": "stdout",
     "output_type": "stream",
     "text": [
      "['COD', 'COD', 'ConLI', 'COD', 'COD', 'COD', 'ConLI', 'CWD', 'ConLw', 'Con', 'ConLw', 'ConLD', 'ConLw', 'ConLI', 'COD', 'ConLD', 'COD', 'COD', 'COD', 'ConLI', 'COD', 'ConLw', 'COD', 'Con', 'COD', 'COD', 'ConLD', 'COD', 'COD', 'COD', 'ConLD', 'COD', 'ConLD', 'COD', 'ConLD', 'CWD', 'ConLw', 'COD', 'COD', 'ConLD', 'ConLD', 'COD', 'ConLD', 'COD', 'COD', 'ConLD', 'ConLw', 'COD', 'ConLD', 'ConLD', 'COD', 'ConLI', 'COD', 'ConLD', 'Oth', 'COD', 'ConLD', 'COD', 'ConLD', 'ConLD', 'COD', 'Con', 'ConLD', 'COD', 'ConLD', 'CWD', 'COD', 'CWD', 'COD', 'CWD', 'CWD', 'COD', 'COD', 'ConLw', 'CWD', nan, 'COD', 'CWD', 'Con', 'COD', 'CWD', 'CWD', 'COD', 'COD', 'COD', 'ConLD', 'ConLD', 'ConLD']\n",
      "75\n"
     ]
    }
   ],
   "source": [
    "##### MSZoning 最多值 = 'RL'\n",
    "#all_data.loc[all_data.MSZoning == 'RL' , \"MSZoning\"]\n",
    "all_data.loc[all_data.MSZoning.isnull() , \"MSZoning\"] = 'RL'\n",
    "\n",
    "###### Alley\n",
    "all_data.loc[all_data.Alley.isnull(), \"Alley\"] = 'NoAlley'\n",
    "\n",
    "##### Utilities 最多值 = 'AllPub'\n",
    "#all_data.loc[all_data.Utilities == 'AllPub', 'Utilities']\n",
    "all_data.loc[all_data.Utilities.isnull() , \"Utilities\"] = 'AllPub'\n",
    "\n",
    "##### 尋找Exterior1st 最多值 \n",
    "'''\n",
    "for i in ('AsbShng', 'AsphShn', 'BrkComm', 'BrkFace', 'CBlock', 'CemntBd', 'HdBoard', 'ImStucc', 'MetalSd', \n",
    "          'Other', 'Plywood', 'PreCast', 'Stone', 'Stucco', 'VinylSd', 'Wd Sdng', 'WdShing'):\n",
    "    k = all_data.loc[all_data.Exterior1st == i, 'Exterior1st'].shape\n",
    "    print(i, k)\n",
    "#最多值為VinylSd\n",
    "'''    \n",
    "all_data.loc[all_data.Exterior1st.isnull(), 'Exterior1st'] = 'VinylSd'\n",
    "\n",
    "##### Exterior2nd最多值 = 'VinylSd'\n",
    "all_data.loc[all_data.Exterior2nd.isnull(), 'Exterior2nd'] = 'VinylSd'\n",
    "\n",
    "##### Electrical最多值 = 'SBrkr'\n",
    "#all_data.loc[all_data['Electrical'] == 'SBrkr', 'Electrical']\n",
    "all_data.loc[all_data.Electrical.isnull(), 'Electrical'] = 'SBrkr'\n",
    "\n",
    "#####'KitchenQual'\n",
    "all_data.loc[all_data.KitchenQual.isnull(), 'KitchenQual'] = 'TA'\n",
    "\n",
    "#####'Functional'\n",
    "all_data.loc[all_data.Functional.isnull(), 'Functional'] = 'Typ'\n",
    "\n",
    "##### 'FireplaceQu'\n",
    "all_data.loc[all_data.FireplaceQu.isnull(), 'FireplaceQu'] = 'NoFireplace'\n",
    "\n",
    "##### 'PoolQC'\n",
    "all_data.loc[all_data['PoolQC'].isnull(), 'PoolQC'] = 'NoPool'\n",
    "\n",
    "##### 'Fence'\n",
    "all_data.loc[all_data['Fence'].isnull(), 'Fence'] = 'NoFence'\n",
    "\n",
    "##### 'MiscFeature'\n",
    "all_data.loc[all_data['MiscFeature'].isnull(), 'MiscFeature'] = 'None'\n",
    "\n",
    "##### SaleType\n",
    "\n",
    "all_data.loc[all_data.SaleType.isnull(), 'SaleType']\n",
    "all_data.loc[2489, 'SaleCondition']\n",
    "all_data.loc[all_data.SaleCondition == 'Normal', 'SaleType']\n",
    "\n",
    "#查詢是否有不是WD的\n",
    "k1 = []\n",
    "for i in range(1,2402):\n",
    "    k = all_data.loc[all_data.SaleCondition == 'Normal', 'SaleType'].reset_index()[\"SaleType\"][i]\n",
    "    if k != 'WD':\n",
    "        k1.append(k)\n",
    "print(k1)\n",
    "\n",
    "len(k1)\n",
    "\n",
    "#有不是WD的，計算不是的各種類數量\n",
    "#無法排序有浮點數，找出令成str\n",
    "for i in range(1,87):\n",
    "    if type(k1[i]) == float:\n",
    "        print(i)\n",
    "\n",
    "k1[75] = 'NAN'\n",
    "\n",
    "#排序，找出各種類數目\n",
    "k1.sort\n",
    "k1\n",
    "\n",
    "k_1 = []\n",
    "k_2 = []\n",
    "for i in range(1,87):\n",
    "    if k1[i] == 'COD':\n",
    "        k_1.append(i)\n",
    "    elif k1[i] == 'ConLD':\n",
    "        k_2.append(i)\n",
    "        \n",
    "len(k_1)  #39\n",
    "len(k_2)  #21\n",
    "#都不多，所以最多的是WD\n",
    "\n",
    "all_data.loc[all_data.SaleCondition.isnull(), 'SaleType'] = 'WD'\n",
    "\n"
   ]
  },
  {
   "cell_type": "markdown",
   "metadata": {},
   "source": [
    "3.轉換資料，從資料中攫取更多資訊"
   ]
  },
  {
   "cell_type": "code",
   "execution_count": 15,
   "metadata": {},
   "outputs": [
    {
     "name": "stdout",
     "output_type": "stream",
     "text": [
      "MSZoning\n",
      "Street\n",
      "Alley\n",
      "LotShape\n",
      "LandContour\n",
      "Utilities\n",
      "LotConfig\n",
      "LandSlope\n",
      "Neighborhood\n",
      "Condition1\n",
      "Condition2\n",
      "BldgType\n",
      "HouseStyle\n",
      "RoofStyle\n",
      "RoofMatl\n",
      "Exterior1st\n",
      "Exterior2nd\n",
      "MasVnrType\n",
      "ExterQual\n",
      "ExterCond\n",
      "Foundation\n",
      "BsmtQual\n",
      "BsmtCond\n",
      "BsmtExposure\n",
      "BsmtFinType1\n",
      "BsmtFinType2\n",
      "Heating\n",
      "HeatingQC\n",
      "CentralAir\n",
      "Electrical\n",
      "KitchenQual\n",
      "Functional\n",
      "FireplaceQu\n",
      "GarageType\n",
      "GarageFinish\n",
      "GarageQual\n",
      "GarageCond\n",
      "PavedDrive\n",
      "PoolQC\n",
      "Fence\n",
      "MiscFeature\n",
      "SaleType\n",
      "SaleCondition\n"
     ]
    }
   ],
   "source": [
    "#尋找需要設置dummy variables的欄位\n",
    "for i in range(1, 79):\n",
    "    if type(all_data.loc[1, all_data.loc[0,:].index[i]]) == str:\n",
    "        print(all_data.loc[0,:].index[i])\n",
    "#all_data.dtypes[all_data.dtypes == \"object\"].index"
   ]
  },
  {
   "cell_type": "code",
   "execution_count": 16,
   "metadata": {
    "collapsed": true
   },
   "outputs": [],
   "source": [
    "#對某些欄位進行質-->量設置\n",
    "all_data = all_data.replace( {'Street': {'Pave': 1, 'Grvl': 0 },\n",
    "                             'Utilities': {'AllPub': 1, 'NoSeWa': 0, 'NoSewr': 0, 'ELO': 0}, \n",
    "                             'ExterQual': {'Ex': 5, \n",
    "                                            'Gd': 4, \n",
    "                                            'TA': 3, \n",
    "                                            'Fa': 2,\n",
    "                                            'Po': 1\n",
    "                                             },\n",
    "                             'ExterCond': {'Ex': 5, \n",
    "                                            'Gd': 4, \n",
    "                                            'TA': 3, \n",
    "                                            'Fa': 2,\n",
    "                                            'Po': 1\n",
    "                                            }, \n",
    "                             'BsmtQual': {'Ex': 5, \n",
    "                                            'Gd': 4, \n",
    "                                            'TA': 3, \n",
    "                                            'Fa': 2,\n",
    "                                            'Po': 1,\n",
    "                                            'NoBsmt': 0},\n",
    "                             'BsmtCond': {'Ex': 5, \n",
    "                                            'Gd': 4, \n",
    "                                            'TA': 3, \n",
    "                                            'Fa': 2,\n",
    "                                            'Po': 1,\n",
    "                                            'NoBsmt': 0},\n",
    "                             'BsmtExposure': {'Gd': 3, \n",
    "                                            'Av': 2, \n",
    "                                            'Mn': 1,\n",
    "                                            'No': 0,\n",
    "                                            'NoBsmt': 0},\n",
    "                             'CentralAir': {'Y': 1, \n",
    "                                            'N': 0}, \n",
    "                             'KitchenQual': {'Ex': 5, \n",
    "                                            'Gd': 4, \n",
    "                                            'TA': 3, \n",
    "                                            'Fa': 2,\n",
    "                                            'Po': 1},\n",
    "                             'Functional': {'Typ': 0,\n",
    "                                            'Min1': 1,\n",
    "                                            'Min2': 1,\n",
    "                                            'Mod': 2,\n",
    "                                            'Maj1': 3,\n",
    "                                            'Maj2': 4,\n",
    "                                            'Sev': 5,\n",
    "                                            'Sal': 6},                             \n",
    "                             'FireplaceQu': {'Ex': 5, \n",
    "                                            'Gd': 4, \n",
    "                                            'TA': 3, \n",
    "                                            'Fa': 2,\n",
    "                                            'Po': 1,\n",
    "                                            'NoFireplace': 0 \n",
    "                                            },\n",
    "                             'GarageQual': {'Ex': 5, \n",
    "                                            'Gd': 4, \n",
    "                                            'TA': 3, \n",
    "                                            'Fa': 2,\n",
    "                                            'Po': 1,\n",
    "                                            'NoGarage': 0},\n",
    "                             'GarageCond': {'Ex': 5, \n",
    "                                            'Gd': 4, \n",
    "                                            'TA': 3, \n",
    "                                            'Fa': 2,\n",
    "                                            'Po': 1,\n",
    "                                            'NoGarage': 0},\n",
    "                              'PavedDrive': {'Y': 1, \n",
    "                                            'P': 0,\n",
    "                                            'N': 0},\n",
    "                              'Fence': {'GdPrv': 2, \n",
    "                                        'GdWo': 2, \n",
    "                                        'MnPrv': 1, \n",
    "                                        'MnWw': 1,\n",
    "                                        'NoFence': 0}})"
   ]
  },
  {
   "cell_type": "code",
   "execution_count": 17,
   "metadata": {
    "collapsed": true
   },
   "outputs": [],
   "source": [
    "#設置新欄位\n",
    "newer_dwelling = all_data.MSSubClass.replace({20: 1, \n",
    "                                            30: 0, \n",
    "                                            40: 0, \n",
    "                                            45: 0,\n",
    "                                            50: 0, \n",
    "                                            60: 1,\n",
    "                                            70: 0,\n",
    "                                            75: 0,\n",
    "                                            80: 0,\n",
    "                                            85: 0,\n",
    "                                            90: 0,\n",
    "                                           120: 1,\n",
    "                                           150: 0,\n",
    "                                           160: 0,\n",
    "                                           180: 0,\n",
    "                                           190: 0})\n",
    "newer_dwelling.name = 'newer_dwelling'\n",
    "\n",
    "MasVnrType_Any = all_data.MasVnrType.replace({'BrkCmn': 1,\n",
    "                                              'BrkFace': 1,\n",
    "                                              'CBlock': 1,\n",
    "                                              'Stone': 1,\n",
    "                                              'None': 0})\n",
    "MasVnrType_Any.name = 'MasVnrType_Any'\n",
    "\n",
    "bad_heating = all_data.HeatingQC.replace({'Ex': 0, \n",
    "                                          'Gd': 0, \n",
    "                                          'TA': 0, \n",
    "                                          'Fa': 1,\n",
    "                                          'Po': 1})\n",
    "bad_heating.name = 'bad_heating'\n",
    "                                          \n",
    "season = all_data.MoSold.replace( {1: 0, \n",
    "                                   2: 0, \n",
    "                                   3: 0, \n",
    "                                   4: 1,\n",
    "                                   5: 1, \n",
    "                                   6: 1,\n",
    "                                   7: 1,\n",
    "                                   8: 0,\n",
    "                                   9: 0,\n",
    "                                  10: 0,\n",
    "                                  11: 0,\n",
    "                                  12: 0})\n",
    "season.name = 'season'\n",
    "\n",
    "SaleCondition_PriceDown = all_data.SaleCondition.replace({'Abnorml': 1,\n",
    "                                                          'Alloca': 1,\n",
    "                                                          'AdjLand': 1,\n",
    "                                                          'Family': 1,\n",
    "                                                          'Normal': 0,\n",
    "                                                          'Partial': 0})\n",
    "SaleCondition_PriceDown.name = 'SaleCondition_PriceDown'\n"
   ]
  },
  {
   "cell_type": "code",
   "execution_count": 18,
   "metadata": {
    "collapsed": true
   },
   "outputs": [],
   "source": [
    "#銷售年份標準化\n",
    "all_data.YrSold = 2010 - all_data.YrSold"
   ]
  },
  {
   "cell_type": "code",
   "execution_count": 19,
   "metadata": {
    "collapsed": true
   },
   "outputs": [],
   "source": [
    "#品質可能影響價格，抓出跟品質有關的欄位做處理，生成新欄位\n",
    "overall_poor_qu = all_data.OverallQual.copy()\n",
    "overall_poor_qu = 5 - overall_poor_qu\n",
    "overall_poor_qu[overall_poor_qu<0] = 0\n",
    "overall_poor_qu.name = 'overall_poor_qu'\n",
    "\n",
    "overall_good_qu = all_data.OverallQual.copy()\n",
    "overall_good_qu = overall_good_qu - 5\n",
    "overall_good_qu[overall_good_qu<0] = 0\n",
    "overall_good_qu.name = 'overall_good_qu'\n",
    "\n",
    "overall_poor_cond = all_data.OverallCond.copy()\n",
    "overall_poor_cond = 5 - overall_poor_cond\n",
    "overall_poor_cond[overall_poor_cond<0] = 0\n",
    "overall_poor_cond.name = 'overall_poor_cond'\n",
    "\n",
    "overall_good_cond = all_data.OverallCond.copy()\n",
    "overall_good_cond = overall_good_cond - 5\n",
    "overall_good_cond[overall_good_cond<0] = 0\n",
    "overall_good_cond.name = 'overall_good_cond'\n",
    "\n",
    "exter_poor_qu = all_data.ExterQual.copy()\n",
    "exter_poor_qu[exter_poor_qu<3] = 1\n",
    "exter_poor_qu[exter_poor_qu>=3] = 0\n",
    "exter_poor_qu.name = 'exter_poor_qu'\n",
    "\n",
    "exter_good_qu = all_data.ExterQual.copy()\n",
    "exter_good_qu[exter_good_qu<=3] = 0\n",
    "exter_good_qu[exter_good_qu>3] = 1\n",
    "exter_good_qu.name = 'exter_good_qu'\n",
    "\n",
    "exter_poor_cond = all_data.ExterCond.copy()\n",
    "exter_poor_cond[exter_poor_cond<3] = 1\n",
    "exter_poor_cond[exter_poor_cond>=3] = 0\n",
    "exter_poor_cond.name = 'exter_poor_cond'\n",
    "\n",
    "exter_good_cond = all_data.ExterCond.copy()\n",
    "exter_good_cond[exter_good_cond<=3] = 0\n",
    "exter_good_cond[exter_good_cond>3] = 1\n",
    "exter_good_cond.name = 'exter_good_cond'\n",
    "\n",
    "bsmt_poor_cond = all_data.BsmtCond.copy()\n",
    "bsmt_poor_cond[bsmt_poor_cond<3] = 1\n",
    "bsmt_poor_cond[bsmt_poor_cond>=3] = 0\n",
    "bsmt_poor_cond.name = 'bsmt_poor_cond'\n",
    "\n",
    "bsmt_good_cond = all_data.BsmtCond.copy()\n",
    "bsmt_good_cond[bsmt_good_cond<=3] = 0\n",
    "bsmt_good_cond[bsmt_good_cond>3] = 1\n",
    "bsmt_good_cond.name = 'bsmt_good_cond'\n",
    "\n",
    "kitchen_poor_qu = all_data.KitchenQual.copy()\n",
    "kitchen_poor_qu[kitchen_poor_qu<3] = 1\n",
    "kitchen_poor_qu[kitchen_poor_qu>=3] = 0\n",
    "kitchen_poor_qu.name = 'kitchen_poor_qu'\n",
    "\n",
    "kitchen_good_qu = all_data.KitchenQual.copy()\n",
    "kitchen_good_qu[kitchen_good_qu<=3] = 0\n",
    "kitchen_good_qu[kitchen_good_qu>3] = 1\n",
    "kitchen_good_qu.name = 'kitchen_good_qu'\n",
    "\n",
    "garage_poor_qu = all_data.GarageQual.copy()\n",
    "garage_poor_qu[garage_poor_qu<3] = 1\n",
    "garage_poor_qu[garage_poor_qu>=3] = 0\n",
    "garage_poor_qu.name = 'garage_poor_qu'\n",
    "\n",
    "garage_good_qu = all_data.GarageQual.copy()\n",
    "garage_good_qu[garage_good_qu<=3] = 0\n",
    "garage_good_qu[garage_good_qu>3] = 1\n",
    "garage_good_qu.name = 'garage_good_qu'\n",
    "\n",
    "garage_poor_cond = all_data.GarageCond.copy()\n",
    "garage_poor_cond[garage_poor_cond<3] = 1\n",
    "garage_poor_cond[garage_poor_cond>=3] = 0\n",
    "garage_poor_cond.name = 'garage_poor_cond'\n",
    "\n",
    "garage_good_cond = all_data.GarageCond.copy()\n",
    "garage_good_cond[garage_good_cond<=3] = 0\n",
    "garage_good_cond[garage_good_cond>3] = 1\n",
    "garage_good_cond.name = 'garage_good_cond'\n",
    "\n",
    "qu_list = pd.concat((overall_poor_qu, overall_good_qu, overall_poor_cond, overall_good_cond, exter_poor_qu,\n",
    "                     exter_good_qu, exter_poor_cond, exter_good_cond, bsmt_poor_cond, bsmt_good_cond, garage_poor_qu,\n",
    "                     garage_good_qu, garage_poor_cond, garage_good_cond, kitchen_poor_qu, kitchen_good_qu), axis=1)\n"
   ]
  },
  {
   "cell_type": "code",
   "execution_count": 20,
   "metadata": {
    "collapsed": true
   },
   "outputs": [],
   "source": [
    "#鄰居品質可能會影響價格，抽出來生成新欄位\n",
    "Neighborhood_Good = pd.DataFrame(np.zeros((all_data.shape[0],1)), columns=['Neighborhood_Good'])\n",
    "Neighborhood_Good[all_data.Neighborhood=='NridgHt'] = 1\n",
    "Neighborhood_Good[all_data.Neighborhood=='Crawfor'] = 1\n",
    "Neighborhood_Good[all_data.Neighborhood=='StoneBr'] = 1\n",
    "Neighborhood_Good[all_data.Neighborhood=='Somerst'] = 1\n",
    "Neighborhood_Good[all_data.Neighborhood=='NoRidge'] = 1"
   ]
  },
  {
   "cell_type": "code",
   "execution_count": 21,
   "metadata": {
    "collapsed": true
   },
   "outputs": [],
   "source": [
    "#賣出日期不一定都比重構日期早(3)、可能相等(238)或晚，建造日期可能比賣出日期早(117)\n",
    "#all_data.loc[all_data.YrSold-all_data.YearRemodAdd < 0,:]\n",
    "#3\n",
    "#all_data.loc[all_data.YrSold-all_data.YearBuilt < 0,:]\n",
    "#1\n",
    "\n",
    "recon_bef_buy = pd.DataFrame(np.zeros((all_data.shape[0],1)), columns = ['reconbefbuy'])\n",
    "recon_bef_buy[all_data.YearRemodAdd > all_data.YrSold] = 1\n",
    "recon_bef_buy = recon_bef_buy.to_sparse()\n",
    "\n",
    "recon_aft_buy = pd.DataFrame(np.zeros((all_data.shape[0],1)), columns = ['reconaftbuy'])\n",
    "recon_aft_buy[all_data.YearRemodAdd >= all_data.YrSold] = 1\n",
    "recon_aft_buy = recon_aft_buy.to_sparse()\n",
    "\n",
    "buil_aft_buy = pd.DataFrame(np.zeros((all_data.shape[0],1)), columns = ['builaftbuy'])\n",
    "buil_aft_buy[all_data.YearBuilt >= all_data.YrSold] = 1\n",
    "buil_aft_buy = buil_aft_buy.to_sparse()\n",
    "\n",
    "all_data.YearBuilt = all_data.YearBuilt.map(yrblt_group)\n",
    "all_data.YearRemodAdd = all_data.YearRemodAdd.map(yrblt_group)"
   ]
  },
  {
   "cell_type": "code",
   "execution_count": 22,
   "metadata": {
    "collapsed": true
   },
   "outputs": [],
   "source": [
    "#將欄位設置不同群\n",
    "all_data = all_data.replace({'MSSubClass': {20: 'SubClass_20', \n",
    "                                            30: 'SubClass_30', \n",
    "                                            40: 'SubClass_40', \n",
    "                                            45: 'SubClass_45',\n",
    "                                            50: 'SubClass_50', \n",
    "                                            60: 'SubClass_60',\n",
    "                                            70: 'SubClass_70',\n",
    "                                            75: 'SubClass_75',\n",
    "                                            80: 'SubClass_80',\n",
    "                                            85: 'SubClass_85',\n",
    "                                            90: 'SubClass_90',\n",
    "                                           120: 'SubClass_120',\n",
    "                                           150: 'SubClass_150',\n",
    "                                           160: 'SubClass_160',\n",
    "                                           180: 'SubClass_180',\n",
    "                                           190: 'SubClass_190'}})\n",
    "\n",
    "all_data = all_data.replace({'MoSold': {1: 'Yan', \n",
    "                                        2: 'Feb', \n",
    "                                        3: 'Mar', \n",
    "                                        4: 'Apr',\n",
    "                                        5: 'May', \n",
    "                                        6: 'Jun',\n",
    "                                        7: 'Jul',\n",
    "                                        8: 'Avg',\n",
    "                                        9: 'Sep',\n",
    "                                        10: 'Oct',\n",
    "                                        11: 'Nov',\n",
    "                                        12: 'Dec'}})"
   ]
  },
  {
   "cell_type": "code",
   "execution_count": 23,
   "metadata": {
    "collapsed": true
   },
   "outputs": [],
   "source": [
    "#幾個欄位不知道如何擷取資訊，所以對他們進行分群，並將結果設置成新欄位\n",
    "svm = SVC(C = 100)\n",
    "pc = pd.Series(np.zeros(train.shape[0]))\n",
    "pc[:] = 'pc1'\n",
    "pc[train.SalePrice >= 150000] = 'pc2'\n",
    "pc[train.SalePrice >= 220000] = 'pc3'\n",
    "unknow_deal_coef = ['Exterior1st', 'Exterior2nd', 'RoofMatl', 'Condition1', 'Condition2', 'BldgType']\n",
    "udc_pc = train.loc[:, unknow_deal_coef]\n",
    "udc_pc = pd.get_dummies(udc_pc, sparse = True)\n",
    "svm.fit(udc_pc, pc)\n",
    "udc_pc_pre = pd.get_dummies(all_data.loc[:, unknow_deal_coef], sparse = True)\n",
    "pc_cls_pre = svm.predict(udc_pc_pre)\n",
    "pc_udc_pre = pd.DataFrame(np.zeros((all_data.shape[0],1)), columns = ['pc'])\n",
    "pc_udc_pre.loc[pc_cls_pre == 'pc2'] = 1\n",
    "pc_udc_pre.loc[pc_cls_pre == 'pc3'] = 2\n",
    "pc_udc_pre = pc_udc_pre.to_sparse()\n",
    "#pc_udc_pre"
   ]
  },
  {
   "cell_type": "code",
   "execution_count": 24,
   "metadata": {
    "collapsed": true
   },
   "outputs": [],
   "source": [
    "#規範數值欄位\n",
    "neu_col = all_data.dtypes[all_data.dtypes!= 'object'].index\n",
    "neu_col_95_res = all_data[neu_col].quantile(.95)\n",
    "neu_col_95_0_res = neu_col_95_res[neu_col_95_res == 0].index\n",
    "neu_col_95_n0_res = neu_col_95_res[neu_col_95_res != 0].index\n",
    "\n",
    "all_data[neu_col_95_0_res] = all_data[neu_col_95_0_res]/all_data[neu_col_95_0_res].max()\n",
    "all_data[neu_col_95_n0_res] = all_data[neu_col_95_n0_res]/all_data[neu_col_95_n0_res].quantile(.95)"
   ]
  },
  {
   "cell_type": "code",
   "execution_count": 25,
   "metadata": {
    "collapsed": true
   },
   "outputs": [],
   "source": [
    "#neu_col_95_res，對95分位數大的、0以及是數值但dtype是'o'(BsmtUnfSF,TotalBsmtSF)(只有這兩個)的進行取log(1+x)\n",
    "#all_data.loc[:, all_data.dtypes == 'O'].to_csv('是數值但dtype是'o'.csv')\n",
    "pre_log_coe = ['LotFrontage', 'LotArea', 'MasVnrArea', 'BsmtFinSF1', 'BsmtFinSF2', 'BsmtUnfSF', 'TotalBsmtSF', \n",
    "     '1stFlrSF', '2ndFlrSF', 'LowQualFinSF', 'GrLivArea', 'GarageArea', 'WoodDeckSF', 'OpenPorchSF', \n",
    "     'EnclosedPorch', '3SsnPorch', 'ScreenPorch', 'PoolArea', 'MiscVal']\n",
    "\n",
    "#all_data.loc[:, pre_log_coe] = np.log1p(all_data.loc[:, pre_log_coe])\n",
    "#np.log1p()不吃int, float"
   ]
  },
  {
   "cell_type": "markdown",
   "metadata": {
    "collapsed": true
   },
   "source": [
    "4.合成大表，準備訓練模型"
   ]
  },
  {
   "cell_type": "code",
   "execution_count": 26,
   "metadata": {
    "collapsed": true
   },
   "outputs": [],
   "source": [
    "X = pd.get_dummies(all_data, sparse=True)\n",
    "X = X.fillna(0)\n",
    "X = pd.concat((X, newer_dwelling, bad_heating, season, MasVnrType_Any, qu_list, recon_bef_buy, recon_aft_buy, \n",
    "               buil_aft_buy, pc_udc_pre), axis=1)"
   ]
  },
  {
   "cell_type": "code",
   "execution_count": 27,
   "metadata": {
    "collapsed": true
   },
   "outputs": [],
   "source": [
    "#面積跟品質相乘可以產生有價值的欄位\n",
    "from itertools import product, chain\n",
    "\n",
    "def poly(x):\n",
    "    area = ['LotArea', 'GrLivArea', 'GarageArea']\n",
    "    qul = chain(qu_list.axes[1].get_values(), ['OverallQual', 'OverallCond', 'ExterQual', 'ExterCond', 'BsmtCond', 'GarageQual', 'GarageCond',\n",
    "               'KitchenQual', 'bad_heating', 'MasVnrType_Any', 'Reconstruct',\n",
    "               'ReconstructAfterBuy', 'Build.eq.Buy'])\n",
    "#u_list.axes[1].get_values() practice again   \n",
    "    for a,q in product(area, qul):\n",
    "        x = X.loc[:, [a, q]].prod(1)\n",
    "        x.name = a + '_' + q\n",
    "        yield x\n",
    "\n",
    "x_p = pd.concat(poly(X), axis = 1)\n",
    "x = pd.concat((X, x_p), axis = 1)\n"
   ]
  },
  {
   "cell_type": "code",
   "execution_count": 28,
   "metadata": {
    "collapsed": true
   },
   "outputs": [],
   "source": [
    "X_train = X[:train.shape[0]]\n",
    "X_test = X[train.shape[0]:]"
   ]
  },
  {
   "cell_type": "code",
   "execution_count": 29,
   "metadata": {
    "collapsed": true
   },
   "outputs": [],
   "source": [
    "y = np.log1p(train.SalePrice)"
   ]
  },
  {
   "cell_type": "code",
   "execution_count": 30,
   "metadata": {},
   "outputs": [
    {
     "name": "stderr",
     "output_type": "stream",
     "text": [
      "/Users/ting/anaconda/lib/python3.6/site-packages/sklearn/cross_validation.py:44: DeprecationWarning: This module was deprecated in version 0.18 in favor of the model_selection module into which all the refactored classes and functions are moved. Also note that the interface of the new CV iterators are different from that of this module. This module will be removed in 0.20.\n",
      "  \"This module will be removed in 0.20.\", DeprecationWarning)\n"
     ]
    }
   ],
   "source": [
    "#cross_val_score\n",
    "from sklearn.cross_validation import cross_val_score\n",
    "from sklearn.metrics import make_scorer, mean_squared_error\n",
    "\n",
    "def rmsle(y, y_pred):\n",
    "     return np.sqrt((( (np.log1p(y_pred*price_scale)- np.log1p(y*price_scale)) )**2).mean())\n",
    "\n",
    "# scorer = make_scorer(rmsle, False)\n",
    "scorer = make_scorer(mean_squared_error, False)\n",
    "\n",
    "def rmse_cv(model, X, y):\n",
    "     return (cross_val_score(model, X, y, scoring=scorer)).mean()"
   ]
  },
  {
   "cell_type": "code",
   "execution_count": 31,
   "metadata": {},
   "outputs": [
    {
     "data": {
      "text/plain": [
       "<matplotlib.axes._subplots.AxesSubplot at 0x112d2bc18>"
      ]
     },
     "execution_count": 31,
     "metadata": {},
     "output_type": "execute_result"
    }
   ],
   "source": [
    "#alpha用多少是最好\n",
    "alphas = [1e-4, 5e-4, 1e-3, 5e-3]\n",
    "cv_lasso = [rmse_cv(Lasso(alpha = alpha, max_iter=50000), X_train, y) for alpha in alphas]\n",
    "#cv_lasso = [rmse_cv(Lasso(alpha = alpha, max_iter=50000), X_train, y) for alpha in alphas] practice again"
   ]
  },
  {
   "cell_type": "code",
   "execution_count": 33,
   "metadata": {},
   "outputs": [
    {
     "data": {
      "text/plain": [
       "<matplotlib.axes._subplots.AxesSubplot at 0x115b82ba8>"
      ]
     },
     "execution_count": 33,
     "metadata": {},
     "output_type": "execute_result"
    },
    {
     "data": {
      "image/png": "[encoded data removed]",
      "text/plain": [
       "<matplotlib.figure.Figure at 0x1073975f8>"
      ]
     },
     "metadata": {},
     "output_type": "display_data"
    }
   ],
   "source": [
    "pd.Series(cv_lasso, index = alphas).plot()\n",
    "#pd.Series(cv_lasso, index = alphas).plot() practice again"
   ]
  },
  {
   "cell_type": "code",
   "execution_count": 34,
   "metadata": {
    "collapsed": true
   },
   "outputs": [],
   "source": [
    "#得到最好alpha的模型\n",
    "model_lasso = Lasso(alpha=5e-4, max_iter=50000).fit(X_train, y)"
   ]
  },
  {
   "cell_type": "code",
   "execution_count": 35,
   "metadata": {
    "collapsed": true
   },
   "outputs": [],
   "source": [
    "#預測結果\n",
    "p = np.expm1(model_lasso.predict(X_test))\n",
    "res = pd.DataFrame({\"id\":test.Id, \"SalePrice\":p}, columns=['id', 'SalePrice'])\n",
    "res.to_csv(\"res.csv\", index = False)"
   ]
  },
  {
   "cell_type": "code",
   "execution_count": null,
   "metadata": {
    "collapsed": true
   },
   "outputs": [],
   "source": []
  }
 ],
 "metadata": {
  "kernelspec": {
   "display_name": "Python 3",
   "language": "python",
   "name": "python3"
  },
  "language_info": {
   "codemirror_mode": {
    "name": "ipython",
    "version": 3
   },
   "file_extension": ".py",
   "mimetype": "text/x-python",
   "name": "python",
   "nbconvert_exporter": "python",
   "pygments_lexer": "ipython3",
   "version": "3.6.1"
  }
 },
 "nbformat": 4,
 "nbformat_minor": 2
}
